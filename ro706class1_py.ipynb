{
  "nbformat": 4,
  "nbformat_minor": 0,
  "metadata": {
    "colab": {
      "provenance": [],
      "collapsed_sections": [],
      "authorship_tag": "ABX9TyNXUqKfvN17BWh1g4237Iy/",
      "include_colab_link": true
    },
    "kernelspec": {
      "name": "python3",
      "display_name": "Python 3"
    },
    "language_info": {
      "name": "python"
    }
  },
  "cells": [
    {
      "cell_type": "markdown",
      "metadata": {
        "id": "view-in-github",
        "colab_type": "text"
      },
      "source": [
        "<a href=\"https://colab.research.google.com/github/Ro706/3D-skybox/blob/main/ro706class1_py.ipynb\" target=\"_parent\"><img src=\"https://colab.research.google.com/assets/colab-badge.svg\" alt=\"Open In Colab\"/></a>"
      ]
    },
    {
      "cell_type": "code",
      "execution_count": null,
      "metadata": {
        "colab": {
          "base_uri": "https://localhost:8080/"
        },
        "id": "Bxb2KgPtzreg",
        "outputId": "fb2027dd-092b-49df-c45f-f9a7a95f9b58"
      },
      "outputs": [
        {
          "output_type": "stream",
          "name": "stdout",
          "text": [
            "RoHit\n",
            "<class 'str'>\n",
            "5\n",
            "139944579247792\n",
            "ROHIT\n",
            "rohit\n",
            "\n",
            "enter value:rohit\n",
            "['r', 'o', 'h', 'i', 't']\n",
            "5\n",
            "r\n",
            "o\n",
            "h\n",
            "i\n",
            "t\n",
            "1 2 rohit\n",
            "False\n",
            "True\n"
          ]
        }
      ],
      "source": [
        "# day 1 python class\n",
        "a = \"RoHit\" # value of 'a' is aditya\n",
        "s,b,c=1,2,\"rohit\" #value of 's','b','c' is 1,2,\"rohit\"\n",
        "a\n",
        "print(a) #printing value 'a'\n",
        "print(type(a))#printing value datatype\n",
        "print(len(a))#printing lengthof the variable 'a'\n",
        "print(id(a))#printing id or you can say that printing storage location of varial 'a'\n",
        "print(a.upper())#printing  variable 'a' upper value\n",
        "print(a.lower())#printing variable 'a' lower value\n",
        "print()\n",
        "list1=list(input(\"enter value:\"))\n",
        "print(list1)\n",
        "print(len(list1))\n",
        "for i in list1:\n",
        "    print(i)\n",
        "print(s,b,c)#printing multiple values\n",
        "print(isinstance(a,int))\n",
        "print(isinstance(b,int))"
      ]
    },
    {
      "cell_type": "code",
      "source": [
        "#day 2 python class\n",
        "x = str(3)\n",
        "print(type(x))\n",
        "print(type(y))\n",
        "y = float(3)\n",
        "print(x)\n",
        "print(y)\n",
        "print(type(y))\n",
        "c =0b100 #for binary number system\n",
        "print(type(c))\n",
        "print(int(\"300\",5))\n",
        "print(int(\"1010\",2))\n",
        "print(int(\"12120\",3))\n",
        "print(int(\"1111111\",2))\n",
        "a = 0b1010 #binary\n",
        "b = 0o170 #octal\n",
        "print(a,b)\n",
        "h = 2+3.14j #complex literal\n",
        "print(h)\n",
        "print(complex(3+84))\n",
        "print (u'\\u00dc \\n nic\\n')\n",
        "print('Omega: \\u03A9')\n",
        "name = \"rohit\"\n",
        "classes = \"12/G\"\n",
        "adress=\"sec -4 G qno-241\"\n",
        "print(name,classes,adress)"
      ],
      "metadata": {
        "colab": {
          "base_uri": "https://localhost:8080/"
        },
        "id": "BKpzoQz8NJ_E",
        "outputId": "e8df3aeb-3e82-4fa2-82c1-18a2654c885c"
      },
      "execution_count": null,
      "outputs": [
        {
          "output_type": "stream",
          "name": "stdout",
          "text": [
            "<class 'str'>\n",
            "<class 'float'>\n",
            "3\n",
            "3.0\n",
            "<class 'float'>\n",
            "<class 'int'>\n",
            "75\n",
            "10\n",
            "150\n",
            "127\n",
            "10 120\n",
            "(2+3.14j)\n",
            "(87+0j)\n",
            "Ü \n",
            " nic\n",
            "\n",
            "Omega: Ω\n",
            "rohit 12/G sec -4 G qno-241\n"
          ]
        }
      ]
    },
    {
      "cell_type": "code",
      "source": [
        "#my work\n",
        "num= int(input(\"enter any four digit number:\"))\n",
        "sum=0\n",
        "for i in str(num):\n",
        "    sum += int(i)\n",
        "print (sum)"
      ],
      "metadata": {
        "colab": {
          "base_uri": "https://localhost:8080/"
        },
        "id": "RR7xgQYtPbjA",
        "outputId": "f5c5e34a-2974-4dd6-f25d-f6ba543bbe5a"
      },
      "execution_count": null,
      "outputs": [
        {
          "output_type": "stream",
          "name": "stdout",
          "text": [
            "enter any four digit number:5555\n",
            "20\n"
          ]
        }
      ]
    },
    {
      "cell_type": "code",
      "source": [
        "#day 3 python class\n",
        "print(ord(\"h\"))\n",
        "print(chr(100))\n",
        "print(int(0x00dc))\n",
        "print(int(0x012dc))\n",
        "a = True\n",
        "b = False\n",
        "print(a + 100, b+100)\n",
        "str_my = \"rohit\"\n",
        "print(str_my [1])\n",
        "print(str_my[-1])\n",
        "print(str_my[1:4])\n",
        "print(str_my[0:5:2])\n",
        "print(str_my[5:0:-1])\n",
        "print(str_my[::2])"
      ],
      "metadata": {
        "colab": {
          "base_uri": "https://localhost:8080/"
        },
        "id": "MAleG-JBHUbq",
        "outputId": "8ebec6ac-e019-4193-b63a-51784426ff0b"
      },
      "execution_count": null,
      "outputs": [
        {
          "output_type": "stream",
          "name": "stdout",
          "text": [
            "104\n",
            "d\n",
            "220\n",
            "4828\n",
            "101 100\n",
            "o\n",
            "t\n",
            "ohi\n",
            "rht\n",
            "tiho\n",
            "rht\n"
          ]
        }
      ]
    },
    {
      "cell_type": "code",
      "source": [
        "#write a program to declare a string consisting  of all digits from 0-9 print all,odd,and even digits from the string\n",
        "my_str = \"0123456789\"\n",
        "print(my_str)\n",
        "print(my_str[::2])#even\n",
        "print(my_str[1:10:2])#odd\n",
        "m_s = \"sitnagpur\"\n",
        "print(m_s[-3:-5:-1])\n",
        "print(m_s[5:2:-1])\n",
        "#write a program to add two number\n",
        "a = 3\n",
        "b = 4\n",
        "c = a+b\n",
        "print(c)\n",
        "#write a program to  input form user\n",
        "username = str(input(\"please enter your name:\"))\n",
        "print(\"hello \",username)"
      ],
      "metadata": {
        "colab": {
          "base_uri": "https://localhost:8080/"
        },
        "id": "hd80wMbpOZoJ",
        "outputId": "46a34d6c-371d-4330-f123-2cb1db59dbcc"
      },
      "execution_count": null,
      "outputs": [
        {
          "output_type": "stream",
          "name": "stdout",
          "text": [
            "0123456789\n",
            "02468\n",
            "13579\n",
            "pg\n",
            "gan\n",
            "7\n",
            "please enter your name:rohit\n",
            "hello  rohit\n"
          ]
        }
      ]
    },
    {
      "cell_type": "code",
      "source": [
        "#day 4 python class\n",
        "my_str=\"rohit mandal\"\n",
        "s1 = my_str.split()\n",
        "s2 = my_str.split(sep = \" \")\n",
        "print(s1,s2)\n",
        "my_str = \"rohit$mandal\"\n",
        "s1 = my_str.split(sep = \"$\")\n",
        "print(s1)\n",
        "name = input(\"enter your name: \")\n",
        "print(\"hello\",name)\n",
        "print(type(name))\n",
        "name = input(\"enter your name:\")\n",
        "print(\"Hello\",name.upper())\n",
        "print(\"hello \",name.title())\n",
        "y,x= input(\"enter two naumber: \").split()\n",
        "print(int(x)+int(y))\n",
        "#real number and perform it multplication\n",
        "real1 = float(input(\"enter your real number1: \"))\n",
        "real2 = float(input(\"enter your real number2: \"))\n",
        "print(real1*real2)\n",
        "#wap to get your name as input and print ascii value \n",
        "name = input(\"enter your name: \")\n",
        "a = len(name)\n",
        "print(\"name len =\", a)\n",
        "for i in range(int(a)):\n",
        "    print(ord(name[i]))\n",
        "print(\"thank you\")  "
      ],
      "metadata": {
        "colab": {
          "base_uri": "https://localhost:8080/"
        },
        "id": "4-6xk45zODkZ",
        "outputId": "2b3c44fe-00f3-49bf-eb0b-2041d286380e"
      },
      "execution_count": null,
      "outputs": [
        {
          "output_type": "stream",
          "name": "stdout",
          "text": [
            "['rohit', 'mandal'] ['rohit', 'mandal']\n",
            "['rohit', 'mandal']\n",
            "enter your name: rohit\n",
            "hello rohit\n",
            "<class 'str'>\n",
            "enter your name:rohit kumar mandal\n",
            "Hello ROHIT KUMAR MANDAL\n",
            "hello  Rohit Kumar Mandal\n",
            "enter two naumber: 1 2\n",
            "3\n",
            "enter your real number1: 112\n",
            "enter your real number2: 12.22\n",
            "1368.64\n",
            "enter your name: rohit\n",
            "name len = 5\n",
            "114\n",
            "111\n",
            "104\n",
            "105\n",
            "116\n",
            "thank you\n"
          ]
        }
      ]
    },
    {
      "cell_type": "code",
      "source": [
        "name = input(\"enter your name: \")\n",
        "a = len(name)\n",
        "print(\"name len =\", a)\n",
        "for i in range(int(a)):\n",
        "    print(ord(name[i]))\n",
        "print(\"thank you\")    \n",
        "\n",
        "    \n",
        "\n"
      ],
      "metadata": {
        "colab": {
          "base_uri": "https://localhost:8080/"
        },
        "id": "WIXiqdGDcv3y",
        "outputId": "ad030083-2496-41a9-e200-e06603804ba2"
      },
      "execution_count": null,
      "outputs": [
        {
          "output_type": "stream",
          "name": "stdout",
          "text": [
            "enter your name: rohit\n",
            "name len = 5\n",
            "114\n",
            "111\n",
            "104\n",
            "105\n",
            "116\n",
            "thank you\n"
          ]
        }
      ]
    },
    {
      "cell_type": "code",
      "source": [
        "ro706 = \"hello rohit\"\n",
        "num = 100\n",
        "text = \"%s your marks: %d\"%(ro706,num)\n",
        "print(text)"
      ],
      "metadata": {
        "colab": {
          "base_uri": "https://localhost:8080/"
        },
        "id": "LZ8yCgdzmCe_",
        "outputId": "ed561a81-002e-4b09-9223-383450113b1e"
      },
      "execution_count": null,
      "outputs": [
        {
          "output_type": "stream",
          "name": "stdout",
          "text": [
            "hello rohit your marks: 100\n"
          ]
        }
      ]
    },
    {
      "cell_type": "code",
      "source": [
        "#home work\n",
        "str_my = input(\"enter your name:\")\n",
        "print(str_my.isalpha())\n",
        "print(str_my[0].isalpha())\n",
        "print(str_my.isdigit())#1\n",
        "print(str_my.isidentifier())#2\n",
        "print(str_my.islower())#3\n",
        "print(str_my.title().istitle())#4\n",
        "print(str_my.istitle())#5\n",
        "table = {110:97,122:98,117:None}\n",
        "print(str_my.translate(table))#6\n",
        "print(str_my.swapcase())#7\n",
        "print(str_my.casefold())#8\n",
        "print(str_my.capitalize())#9\n",
        "print(str_my.endswith(\"mandal\"))#10\n",
        "print(str_my.startswith(\"rohit\"))#11\n",
        "print(str_my.zfill(7))#12\n",
        "list1 =[1,2,3,4]\n",
        "print(list1.index(2))#13\n",
        "print(str_my.find(\"k\"))#14\n",
        "print(str_my.count(\"rohit\"))#15\n",
        "print(str_my.rfind(\"o\"))#16\n",
        "print(str_my.encode())#17\n",
        "print(str_my.center(23))#18\n",
        "print(str_my.center(20))#19\n",
        "print(str_my.isdecimal())#20\n",
        "print(str_my.isnumeric())#21"
      ],
      "metadata": {
        "colab": {
          "base_uri": "https://localhost:8080/"
        },
        "id": "qV5D70LgF01C",
        "outputId": "1bc36b46-7674-4be0-dee7-765b16bdcc92"
      },
      "execution_count": null,
      "outputs": [
        {
          "output_type": "stream",
          "name": "stdout",
          "text": [
            "enter your name:rohit\n",
            "True\n",
            "True\n",
            "False\n",
            "True\n",
            "True\n",
            "True\n",
            "False\n",
            "rohit\n",
            "ROHIT\n",
            "rohit\n",
            "Rohit\n",
            "False\n",
            "True\n",
            "00rohit\n",
            "1\n",
            "-1\n",
            "1\n",
            "1\n",
            "b'rohit'\n",
            "         rohit         \n",
            "       rohit        \n",
            "False\n",
            "False\n"
          ]
        }
      ]
    },
    {
      "cell_type": "code",
      "source": [
        "#list \n",
        "list1 =list(input(\"enter your letter list:\"))\n",
        "print(list1)\n",
        "print(list1[1])\n",
        "n = 0\n",
        "for i in list1:\n",
        "    print(list1[n])\n",
        "    n +=1"
      ],
      "metadata": {
        "colab": {
          "base_uri": "https://localhost:8080/"
        },
        "id": "37I-ToAMMt2V",
        "outputId": "efd38a60-8249-40b2-940d-9f512e229dca"
      },
      "execution_count": null,
      "outputs": [
        {
          "output_type": "stream",
          "name": "stdout",
          "text": [
            "enter your letter list:rohit\n",
            "['r', 'o', 'h', 'i', 't']\n",
            "o\n",
            "r\n",
            "o\n",
            "h\n",
            "i\n",
            "t\n"
          ]
        }
      ]
    },
    {
      "cell_type": "code",
      "source": [
        "for i in range(00,100,2):\n",
        "    print(i)\n",
        "    if i  == 28:\n",
        "      print(\"nice\")\n",
        "      break\n",
        "    else:\n",
        "      pass  "
      ],
      "metadata": {
        "colab": {
          "base_uri": "https://localhost:8080/"
        },
        "id": "StSdSIV6P6FO",
        "outputId": "29e34a2f-75e2-4da4-a8d5-21881ec3bcaa"
      },
      "execution_count": null,
      "outputs": [
        {
          "output_type": "stream",
          "name": "stdout",
          "text": [
            "0\n",
            "2\n",
            "4\n",
            "6\n",
            "8\n",
            "10\n",
            "12\n",
            "14\n",
            "16\n",
            "18\n",
            "20\n",
            "22\n",
            "24\n",
            "26\n",
            "28\n",
            "nice\n"
          ]
        }
      ]
    },
    {
      "cell_type": "code",
      "source": [
        "months = ['January', 'February', 'March', 'April', 'May', 'June', 'July', 'August', 'September', 'October', 'November', 'December']\n",
        "print(months[6],\"\\n\")\n",
        "print(months[6:9],\"\\n\")\n",
        "print(months[0:11:2],\"\\n\")\n",
        "print(months[-12:-1])\n",
        "print(months[-12:-1])\n",
        "print(months[12:1:-1])\n",
        "print(months[12:5:-1])\n",
        "print(months[12:3:-1])\n",
        "print(months[-1:-5:-1])\n",
        "print(months[-12:-8:1],\"\\n\")\n",
        "list1=list(range(-4,10,2))\n",
        "print(\"list1=\",list1)\n",
        "list2 =list(range(-6,6,1))\n",
        "print(\"list2\",list2)\n",
        "print(list1+list2)\n",
        "print(list2 * 2)\n",
        "print(list1 in list2)\n",
        "print(list1 not in list2 )\n",
        "n = 0\n",
        "list1.append(1)\n",
        "print(list1)\n",
        "list1.insert(0,11) #insert(indexnumber,element name or number)\n",
        "print(\"list1 =\",list1)\n",
        "l=list1.sort()\n",
        "print(sorted(list1,reverse=True))"
      ],
      "metadata": {
        "colab": {
          "base_uri": "https://localhost:8080/"
        },
        "id": "rIv6WafL4nty",
        "outputId": "3d7445db-f4d9-4026-ca4d-e98a4fad91f0"
      },
      "execution_count": null,
      "outputs": [
        {
          "output_type": "stream",
          "name": "stdout",
          "text": [
            "July \n",
            "\n",
            "['July', 'August', 'September'] \n",
            "\n",
            "['January', 'March', 'May', 'July', 'September', 'November'] \n",
            "\n",
            "['January', 'February', 'March', 'April', 'May', 'June', 'July', 'August', 'September', 'October', 'November']\n",
            "['January', 'February', 'March', 'April', 'May', 'June', 'July', 'August', 'September', 'October', 'November']\n",
            "['December', 'November', 'October', 'September', 'August', 'July', 'June', 'May', 'April', 'March']\n",
            "['December', 'November', 'October', 'September', 'August', 'July']\n",
            "['December', 'November', 'October', 'September', 'August', 'July', 'June', 'May']\n",
            "['December', 'November', 'October', 'September']\n",
            "['January', 'February', 'March', 'April'] \n",
            "\n",
            "list1= [-4, -2, 0, 2, 4, 6, 8]\n",
            "list2 [-6, -5, -4, -3, -2, -1, 0, 1, 2, 3, 4, 5]\n",
            "[-4, -2, 0, 2, 4, 6, 8, -6, -5, -4, -3, -2, -1, 0, 1, 2, 3, 4, 5]\n",
            "[-6, -5, -4, -3, -2, -1, 0, 1, 2, 3, 4, 5, -6, -5, -4, -3, -2, -1, 0, 1, 2, 3, 4, 5]\n",
            "False\n",
            "True\n",
            "[-4, -2, 0, 2, 4, 6, 8, 1]\n",
            "list1 = [11, -4, -2, 0, 2, 4, 6, 8, 1]\n",
            "[11, 8, 6, 4, 2, 1, 0, -2, -4]\n"
          ]
        }
      ]
    },
    {
      "cell_type": "code",
      "source": [
        "#to find the sum of 5 digit number\n",
        "a = []\n",
        "a.append(int(input(\"enter number 1:\")))\n",
        "a.append(int(input(\"enter number 2:\")))\n",
        "a.append(int(input(\"enter number 3:\")))\n",
        "a.append(int(input(\"enter number 4:\")))\n",
        "a.append(int(input(\"enter number 5:\")))\n",
        "sum = a[0]+a[1]+a[2]+a[3]+a[4]\n",
        "print(\"sum=\",sum)"
      ],
      "metadata": {
        "id": "GHNTdapd5PaM",
        "colab": {
          "base_uri": "https://localhost:8080/"
        },
        "outputId": "ca3bbed9-6501-4544-d7c9-d2d8b326ed06"
      },
      "execution_count": null,
      "outputs": [
        {
          "output_type": "stream",
          "name": "stdout",
          "text": [
            "enter number 1:1\n",
            "enter number 2:2\n",
            "enter number 3:3\n",
            "enter number 4:4\n",
            "enter number 5:5\n",
            "sum= 15\n"
          ]
        }
      ]
    },
    {
      "cell_type": "code",
      "source": [
        "#1)to find the sum of 5 digit number\n",
        "#2)to find weather arm is or not\n",
        "#1)\n",
        "a = b = int(input(\"enter any 5 digit number:\"))\n",
        "b = a%10\n",
        "a = a//10\n",
        "b1 = a%10\n",
        "a = a//10\n",
        "b2 = a%10\n",
        "a = a//10\n",
        "b3 = a%10\n",
        "a = a//10\n",
        "b4 = a%10\n",
        "a =  a//10\n",
        "print(b,b1,b2,b3,b4)\n",
        "print('sum',b+b1+b2+b3+b4)"
      ],
      "metadata": {
        "colab": {
          "base_uri": "https://localhost:8080/"
        },
        "id": "WGoFwn-Qcas6",
        "outputId": "d8369b03-cae1-4a68-cacf-f2599f183b18"
      },
      "execution_count": null,
      "outputs": [
        {
          "output_type": "stream",
          "name": "stdout",
          "text": [
            "enter any 5 digit number:12345\n",
            "5 4 3 2 1\n",
            "sum 15\n"
          ]
        }
      ]
    },
    {
      "cell_type": "code",
      "source": [
        "a = b = int(input(\"enter any 3 digit number:\"))\n",
        "b = a%10\n",
        "a = a//10\n",
        "b1 = a%10\n",
        "a = a//10\n",
        "b2 = a%10\n",
        "print(b**3+b1**3+b2**3)\n",
        "print('armstrong number')"
      ],
      "metadata": {
        "colab": {
          "base_uri": "https://localhost:8080/"
        },
        "id": "ntf14wK_0IOS",
        "outputId": "fc6031ad-12f0-4d00-8ccd-c58b016fcb4e"
      },
      "execution_count": null,
      "outputs": [
        {
          "output_type": "stream",
          "name": "stdout",
          "text": [
            "enter any 3 digit number:153\n",
            "153\n",
            "armstrong number\n"
          ]
        }
      ]
    },
    {
      "cell_type": "code",
      "source": [
        "num = int(input(\"enter number:\"))\n",
        "ans = 0\n",
        "digits = len(str(num))\n",
        "dup_number = num\n",
        "while (dup_number != 0):\n",
        "    remainder = dup_number % 10\n",
        "    ans = ans + remainder**digits\n",
        "    dup_number = dup_number//10\n",
        "if(num == ans):\n",
        "    print(num, \"is Armstrong number\")\n",
        "else:\n",
        "    print(num, \"is not Armstrong number\")"
      ],
      "metadata": {
        "colab": {
          "base_uri": "https://localhost:8080/"
        },
        "id": "Q81CUWV771cs",
        "outputId": "d81232fa-bb85-4414-8563-23a671247c21"
      },
      "execution_count": null,
      "outputs": [
        {
          "output_type": "stream",
          "name": "stdout",
          "text": [
            "enter number:1234\n",
            "1234 is not Armstrong number\n"
          ]
        }
      ]
    },
    {
      "cell_type": "code",
      "source": [
        "#day 6 python class\n",
        "list1= [\"CAT\",\"DOG\",\"TIGER\",\"JAK\",\"apple\"]\n",
        "print(sorted(list1,key=str.lower))\n",
        "list1 =[[1,2,3,4],[\"rohit\",\"riya\",\"raj\",\"khushi\"],[36,37,32,33]]\n",
        "print(list1)\n",
        "print(\"list1 =\",list1[0],\"list2=\",list1[1],\"list3=\",list1[2])\n",
        "print(list1[0:3][0:3])\n",
        "#tuple\n",
        "t =(1,2,3,4,\"three\")\n",
        "print(t)\n",
        "print(type(t))\n",
        "t = (1,2,3,4,5)\n",
        "a,b,c,d,e = t\n",
        "print(a,b,c,d)\n",
        "for i in t:\n",
        "    print(i)\n",
        "del t\n",
        "print(\"tuple is deleted successfully\")\n",
        "t = (\"21-06-2004\",[\"rohit\",\"sager\"])\n",
        "r = (\"21-06-2004\",[\"rohit\",\"sager\"])\n",
        "print(r == t)\n",
        "print(id(r),id(t))\n",
        "print(t is r)\n",
        "t = r\n",
        "print(r == t)\n",
        "print(id(r),id(t))\n",
        "print(t is r)\n",
        "list1 = t[1]\n",
        "list1.append(\"ro706\")\n",
        "print(t)\n",
        "'''t[1]=[1,2,3]\n",
        "print(t)'''\n",
        "set1 = {1,2,3,4}\n",
        "print(set1) \n",
        "set1.add(0)\n",
        "set1.update([10,11,12,13])\n",
        "print(set1)\n",
        "set1.pop()\n",
        "#set1.clear()\n",
        "print(set1)\n",
        "set1.remove(10)\n",
        "print(set1)\n",
        "set1.discard(0)\n",
        "set2 = {1,2,3,0,10}\n",
        "print(set2)"
      ],
      "metadata": {
        "id": "0DxmoX94Vtbn",
        "colab": {
          "base_uri": "https://localhost:8080/"
        },
        "outputId": "b4d3c961-a6fd-4b93-ffcc-80ce4f5d4b42"
      },
      "execution_count": null,
      "outputs": [
        {
          "output_type": "stream",
          "name": "stdout",
          "text": [
            "['apple', 'CAT', 'DOG', 'JAK', 'TIGER']\n",
            "[[1, 2, 3, 4], ['rohit', 'riya', 'raj', 'khushi'], [36, 37, 32, 33]]\n",
            "list1 = [1, 2, 3, 4] list2= ['rohit', 'riya', 'raj', 'khushi'] list3= [36, 37, 32, 33]\n",
            "[[1, 2, 3, 4], ['rohit', 'riya', 'raj', 'khushi'], [36, 37, 32, 33]]\n",
            "(1, 2, 3, 4, 'three')\n",
            "<class 'tuple'>\n",
            "1 2 3 4\n",
            "1\n",
            "2\n",
            "3\n",
            "4\n",
            "5\n",
            "tuple is deleted successfully\n",
            "True\n",
            "140707458691872 140707458437760\n",
            "False\n",
            "True\n",
            "140707458691872 140707458691872\n",
            "True\n",
            "('21-06-2004', ['rohit', 'sager', 'ro706'])\n",
            "{1, 2, 3, 4}\n",
            "{0, 1, 2, 3, 4, 10, 11, 12, 13}\n",
            "{1, 2, 3, 4, 10, 11, 12, 13}\n",
            "{1, 2, 3, 4, 11, 12, 13}\n"
          ]
        }
      ]
    },
    {
      "cell_type": "code",
      "source": [
        "set1 = {1,2,3,4}\n",
        "a= (1.0,(1,2,3),\"hello\")\n",
        "set2=a\n",
        "print(set1)\n",
        "print(set2)"
      ],
      "metadata": {
        "id": "vGxJnxhrYvzs",
        "colab": {
          "base_uri": "https://localhost:8080/"
        },
        "outputId": "fc82e054-65ef-44f2-aabe-30935ca61716"
      },
      "execution_count": null,
      "outputs": [
        {
          "output_type": "stream",
          "name": "stdout",
          "text": [
            "{1, 2, 3, 4}\n",
            "(1.0, (1, 2, 3), 'hello')\n"
          ]
        }
      ]
    },
    {
      "cell_type": "code",
      "source": [
        "t1 = ()\n",
        "t2 = (1,2,3)\n",
        "t3 = (1,\"hello\",34)\n",
        "print(t1)\n",
        "print(t2)\n",
        "print(t3)"
      ],
      "metadata": {
        "colab": {
          "base_uri": "https://localhost:8080/"
        },
        "id": "6142k1jCfFoY",
        "outputId": "9051cf61-d6c3-43b0-845e-fd1f0c405f51"
      },
      "execution_count": null,
      "outputs": [
        {
          "output_type": "stream",
          "name": "stdout",
          "text": [
            "()\n",
            "(1, 2, 3)\n",
            "(1, 'hello', 34)\n"
          ]
        }
      ]
    },
    {
      "cell_type": "code",
      "source": [
        "t1 = (3,46,\"cat\")\n",
        "print(t1)\n",
        "print(t1[0])\n",
        "print(t1[1])\n",
        "print(t1[2])"
      ],
      "metadata": {
        "colab": {
          "base_uri": "https://localhost:8080/"
        },
        "id": "KNyDZ1hDhMRP",
        "outputId": "5900072a-6fe8-473e-97f8-1072d2195106"
      },
      "execution_count": null,
      "outputs": [
        {
          "output_type": "stream",
          "name": "stdout",
          "text": [
            "(3, 46, 'cat')\n",
            "3\n",
            "46\n",
            "cat\n"
          ]
        }
      ]
    },
    {
      "cell_type": "code",
      "source": [
        "tuple1 = (0,1,2,3)\n",
        "tuple2 = (\"SIT\",\"Nagpur\")\n",
        "tuple3 = tuple1 + tuple2\n",
        "print(\"tuple1 \\n\",tuple1) \n",
        "print(\"tuple2 \\n\",tuple2)\n",
        "print(\"tuple after concetnation \\n\",tuple3) "
      ],
      "metadata": {
        "colab": {
          "base_uri": "https://localhost:8080/"
        },
        "id": "2Bx3_rB6hdvr",
        "outputId": "286d72ce-7422-4f06-8b02-2a253b41755c"
      },
      "execution_count": null,
      "outputs": [
        {
          "output_type": "stream",
          "name": "stdout",
          "text": [
            "tuple1 \n",
            " (0, 1, 2, 3)\n",
            "tuple2 \n",
            " ('SIT', 'Nagpur')\n",
            "tuple after concetnation \n",
            " (0, 1, 2, 3, 'SIT', 'Nagpur')\n"
          ]
        }
      ]
    },
    {
      "cell_type": "code",
      "source": [
        "classroll = {\"rohit\":7,\"aditya\":24,\"nishant\":61,\"anmol\":23,\"devanshu\":22}\n",
        "print(classroll)\n",
        "classroll['rohit']=75\n",
        "classroll['aditya'] = 92\n",
        "classroll[\"nishant\"]=125\n",
        "classroll['anmol'] = 91\n",
        "classroll['devanshu'] = 90\n",
        "print(classroll)\n",
        "print(classroll.keys())\n",
        "print(classroll.values())\n",
        "print(type(classroll))\n",
        "print(1,2,3,4)\n",
        "print(1,2,3,4, sep =\"#\" ,end=\"$\")\n",
        "print(1,2,3,4, sep =' ',end =\"\\n\")\n",
        "print(1,2,3,4, sep =\"@\",end=\"$\",flush = True)\n",
        "print(\"\")\n",
        "print(\"     *\",\"    * *\",\"   * * *\",\"  * * * *\",sep =\"\\n\",end =\"\")"
      ],
      "metadata": {
        "id": "wiiQNAgBjcYE",
        "colab": {
          "base_uri": "https://localhost:8080/"
        },
        "outputId": "739f9d11-4267-4a9f-e12e-9d35d9097f0f"
      },
      "execution_count": null,
      "outputs": [
        {
          "output_type": "stream",
          "name": "stdout",
          "text": [
            "{'rohit': 7, 'aditya': 24, 'nishant': 61, 'anmol': 23, 'devanshu': 22}\n",
            "{'rohit': 75, 'aditya': 92, 'nishant': 125, 'anmol': 91, 'devanshu': 90}\n",
            "dict_keys(['rohit', 'aditya', 'nishant', 'anmol', 'devanshu'])\n",
            "dict_values([75, 92, 125, 91, 90])\n",
            "<class 'dict'>\n",
            "1 2 3 4\n",
            "1#2#3#4$1 2 3 4\n",
            "1@2@3@4$\n",
            "     *\n",
            "    * *\n",
            "   * * *\n",
            "  * * * *"
          ]
        }
      ]
    },
    {
      "cell_type": "code",
      "source": [
        "#python class 8\n",
        "x = 23\n",
        "y = 82\n",
        "print(\"two value are {1} and {0}\".format(x,y))\n",
        "print(f\"two value are {x} and {y}\")\n",
        "''' \n",
        "arithmatic oprators : +,-,/,*,%,//,**[BODMAS]\n",
        "comparison oprators : <,>,==,,!=,>=,<=\n",
        "logical oprators : and ,or,not\n",
        "bitwise oprator : !,&,~,^,>>,<<\n",
        "'''\n",
        "print(5<<3)\n",
        "print(10 >> 2)\n",
        "print(5&6)\n",
        "letter = input('enter character:')\n",
        "print('vowel') if letter in 'aeiou'else print('no vowel')"
      ],
      "metadata": {
        "id": "-L4lA_NFqfgE",
        "colab": {
          "base_uri": "https://localhost:8080/"
        },
        "outputId": "c6181754-934f-4a77-a743-1e93f9853570"
      },
      "execution_count": null,
      "outputs": [
        {
          "output_type": "stream",
          "name": "stdout",
          "text": [
            "two value are 82 and 23\n",
            "two value are 23 and 82\n",
            "40\n",
            "2\n",
            "4\n",
            "enter character:a\n",
            "vowel\n"
          ]
        }
      ]
    },
    {
      "cell_type": "code",
      "source": [
        "#wap to check weather enter number is even or odd by using bitwise\n",
        "num = int(input(\"enter num:\"))\n",
        "print('odd') if num&1== 1 else print(\"even\")\n",
        "#wap to fine the largest of two number\n"
      ],
      "metadata": {
        "id": "jrtt2kFHWohO",
        "colab": {
          "base_uri": "https://localhost:8080/"
        },
        "outputId": "49e8b72b-4e9a-4c68-e631-4496de6d3582"
      },
      "execution_count": null,
      "outputs": [
        {
          "output_type": "stream",
          "name": "stdout",
          "text": [
            "enter num:2\n",
            "even\n"
          ]
        }
      ]
    },
    {
      "cell_type": "code",
      "source": [
        "num1 = int(input(\"enter num1:\"))\n",
        "num2 =int(input(\"enter num2\"))\n",
        "print(\"num1 is greater than num2\") if num1 > num2 else print(\"num2 is graeter than num2\") "
      ],
      "metadata": {
        "colab": {
          "base_uri": "https://localhost:8080/"
        },
        "id": "g_1S1TjDezEM",
        "outputId": "fe6ec563-b97f-4e3d-c2ba-3ac00d22662a"
      },
      "execution_count": null,
      "outputs": [
        {
          "output_type": "stream",
          "name": "stdout",
          "text": [
            "enter num1:1\n",
            "enter num22\n",
            "num2 is graeter than num2\n"
          ]
        }
      ]
    },
    {
      "cell_type": "code",
      "source": [
        "num1 = int(input(\"enter num1:\"))\n",
        "num2 =int(input(\"enter num2:\"))\n",
        "num3 = int(input(\"enter num3:\"))\n",
        "a = 0\n",
        "print(\"num1\") if num1 > num2 or num1 > num3 else print(\"num3\")\n"
      ],
      "metadata": {
        "colab": {
          "base_uri": "https://localhost:8080/"
        },
        "id": "20Q1Z6lDjJB7",
        "outputId": "ac50bd4f-9812-4b3c-d51e-07e9ddbeaa7e"
      },
      "execution_count": null,
      "outputs": [
        {
          "output_type": "stream",
          "name": "stdout",
          "text": [
            "enter num1:10\n",
            "enter num2:3\n",
            "enter num3:5\n",
            "num1\n"
          ]
        }
      ]
    },
    {
      "cell_type": "code",
      "source": [
        "num1 = int(input(\"enter num1:\"))\n",
        "num2 =int(input(\"enter num2:\"))\n",
        "num3 = int(input(\"enter num3:\"))\n",
        "a = num1 if num1 > num2 else num2\n",
        "a = a if a > num3 else num3\n",
        "print(a) "
      ],
      "metadata": {
        "colab": {
          "base_uri": "https://localhost:8080/"
        },
        "id": "Bsk8u3KikXLT",
        "outputId": "bc3662d4-10b9-460f-fed3-f665d956df85"
      },
      "execution_count": null,
      "outputs": [
        {
          "output_type": "stream",
          "name": "stdout",
          "text": [
            "enter num1:1\n",
            "enter num2:4\n",
            "enter num3:2\n",
            "4\n"
          ]
        }
      ]
    },
    {
      "cell_type": "code",
      "source": [
        "#wap to create list of 3 friend.check if amit is present in the list or not if amit is not in the list append/add amit in the list\n",
        "friend = [\"rohit\",\"riya\",\"aditya\",\"nishant\",\"aryan\"]\n",
        "print(\"add amit\",friend.append('amit')) if \"amit\" not in friend else print('list',friend)\n",
        "print(friend)  "
      ],
      "metadata": {
        "colab": {
          "base_uri": "https://localhost:8080/"
        },
        "id": "y77e9xCOncUL",
        "outputId": "766dc290-731c-4299-f9af-64cc264046bd"
      },
      "execution_count": null,
      "outputs": [
        {
          "output_type": "stream",
          "name": "stdout",
          "text": [
            "add amit None\n",
            "['rohit', 'riya', 'aditya', 'nishant', 'aryan', 'amit']\n"
          ]
        }
      ]
    },
    {
      "cell_type": "code",
      "source": [],
      "metadata": {
        "id": "A-PXWTNYo2fK"
      },
      "execution_count": null,
      "outputs": []
    }
  ]
}